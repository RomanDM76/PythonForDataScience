#Zadanie_1

import numpy as np
import matplotlib as mpl
import matplotlib.pyplot as plt
import pylab
%matplotlib inline
%config InlineBackend.figure_format = 'svg'
plt.plot()
x = [1, 2, 3, 4, 5, 6, 7]
y = [3.5, 3.8, 4.2, 4.5, 5, 5.5, 7]

plt.plot(x, y)
plt.show()

plt.scatter(x, y)
plt.show()

#Zadanie_2

t = np.linspace(0, 10, 51)
f = np.sin(t)
plt.title('График f(t)')
plt.xlabel('Значения t')
plt.ylabel('Значения f')
plt.xlim(0.5, 9.5)
plt.ylim(-2.5, 2.5)
plt.plot(t, f, c='green')

#Zadanie_3

x = np.linspace(-3, 3, 51)
y1 = np.square(x)
y2 = 2*x+0.5
y3 = -3*x-1.5
y4 = np.sin(x)
fig = plt.figure()

fig.add_subplot(2, 2, 1)
pylab.plot (x, y1)
pylab.title ("График y1")

fig.add_subplot(2, 2, 2)
pylab.plot (x, y2)
pylab.title ("График y2")

fig.add_subplot(2, 2, 3)
pylab.plot (x, y3)
pylab.title ("График y3")

fig.add_subplot(2, 2, 4)
pylab.plot (x, y4)
pylab.title ("График y4")
